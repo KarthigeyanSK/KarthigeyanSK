{
  "nbformat": 4,
  "nbformat_minor": 0,
  "metadata": {
    "colab": {
      "name": "Untitled10.ipynb",
      "provenance": [],
      "authorship_tag": "ABX9TyOMM7lAULVjLBeMkLIm8Pcd",
      "include_colab_link": true
    },
    "kernelspec": {
      "name": "python3",
      "display_name": "Python 3"
    },
    "language_info": {
      "name": "python"
    }
  },
  "cells": [
    {
      "cell_type": "markdown",
      "metadata": {
        "id": "view-in-github",
        "colab_type": "text"
      },
      "source": [
        "<a href=\"https://colab.research.google.com/github/KarthigeyanSK/KarthigeyanSK/blob/main/Unit-04.ipynb\" target=\"_parent\"><img src=\"https://colab.research.google.com/assets/colab-badge.svg\" alt=\"Open In Colab\"/></a>"
      ]
    },
    {
      "cell_type": "code",
      "execution_count": null,
      "metadata": {
        "id": "6X7bZGhJluB9",
        "colab": {
          "base_uri": "https://localhost:8080/"
        },
        "outputId": "024dfd72-59e5-47e6-dcc3-04b35ffec354"
      },
      "outputs": [
        {
          "output_type": "stream",
          "name": "stdout",
          "text": [
            "I'm first call to user define function!\n",
            "Again second call to the same function\n"
          ]
        }
      ],
      "source": [
        "#Function definition is here\n",
        "def printme (str):\n",
        "  \"This prints a passed string into this function\"\n",
        "  print(str) \n",
        "  return;\n",
        "#Now you can call printme function \n",
        "printme(\"I'm first call to user define function!\")\n",
        "printme(\"Again second call to the same function\")"
      ]
    },
    {
      "cell_type": "code",
      "source": [
        "# Function definition is here \n",
        "def changeme (list):\n",
        "  \"This changes a passed list into this function\"\n",
        "  list.append ([1,2,3,4]);\n",
        "  print(\"values inside the function :\"),list\n",
        "  return\n",
        "#now you van cal changeme function\n",
        "list = [10,20,30];\n",
        "changeme(list);\n",
        "print(\"values outside the function:\"),list"
      ],
      "metadata": {
        "colab": {
          "base_uri": "https://localhost:8080/"
        },
        "id": "y4N9al1cV7St",
        "outputId": "eedaaf89-f800-42ed-a42d-782dee2c9106"
      },
      "execution_count": null,
      "outputs": [
        {
          "output_type": "stream",
          "name": "stdout",
          "text": [
            "values inside the function :\n",
            "values outside the function:\n"
          ]
        },
        {
          "output_type": "execute_result",
          "data": {
            "text/plain": [
              "(None, [10, 20, 30, [1, 2, 3, 4]])"
            ]
          },
          "metadata": {},
          "execution_count": 12
        }
      ]
    },
    {
      "cell_type": "code",
      "source": [
        "#!/user/bin/python\n",
        "#function definition is here \n",
        "def printinfo(name,age):\n",
        "  \"this prints a passed info into this function\"\n",
        "  print(\"name:\",name)\n",
        "  print(\"age\",age)\n",
        "  return;\n",
        "#now you can call printinfo function\n",
        "printinfo(age=20,name=\"kiki\")"
      ],
      "metadata": {
        "colab": {
          "base_uri": "https://localhost:8080/"
        },
        "id": "B2BfqNJNXAbc",
        "outputId": "78cbd80a-53bf-4603-a2be-cb8844e00446"
      },
      "execution_count": null,
      "outputs": [
        {
          "output_type": "stream",
          "name": "stdout",
          "text": [
            "name: kiki\n",
            "age 20\n"
          ]
        }
      ]
    },
    {
      "cell_type": "code",
      "source": [
        "#!/user/bin/python \n",
        "#function definition is here\n",
        "def printinfo(arg1,*vartuple):\n",
        "  \"this prints a variable passed arguments\"\n",
        "  print (\"output is:\")\n",
        "  print (arg1) \n",
        "  for var in vartuple:\n",
        "    print(var)\n",
        "  return;\n",
        "#now you can call printinfo function\n",
        "printinfo(10)\n",
        "printinfo(30,37,70)\n"
      ],
      "metadata": {
        "colab": {
          "base_uri": "https://localhost:8080/"
        },
        "id": "1iJUOLPOcmMd",
        "outputId": "bb20d94f-b256-4e22-8fcd-c14c7d8ccf2d"
      },
      "execution_count": null,
      "outputs": [
        {
          "output_type": "stream",
          "name": "stdout",
          "text": [
            "output is:\n",
            "10\n",
            "output is:\n",
            "30\n",
            "37\n",
            "70\n"
          ]
        }
      ]
    },
    {
      "cell_type": "code",
      "source": [
        "total=0; #this is global variale.\n",
        "#function definiton is here \n",
        "def sum(arg1,arg2):\n",
        "  #add both the parameters and return them.\n",
        "  total=arg1+arg2; #here total is local variable.\n",
        "  print (\"inside the function local total :\",total)\n",
        "  return total;\n",
        "#now you can sum function \n",
        "sum(10,20);\n",
        "print(\"outside the function global total :\",total)\n"
      ],
      "metadata": {
        "colab": {
          "base_uri": "https://localhost:8080/"
        },
        "id": "B0NShtEFo-u8",
        "outputId": "619932e6-0044-4d8a-b01c-111fc1154af5"
      },
      "execution_count": null,
      "outputs": [
        {
          "output_type": "stream",
          "name": "stdout",
          "text": [
            "inside the function local total : 30\n",
            "outside the function global total : 0\n"
          ]
        }
      ]
    },
    {
      "cell_type": "code",
      "source": [
        "from math import sqrt \n",
        "max_value = eval(input(\"Display primes up to what value?\"))\n",
        "value = 2  \n",
        "while value<=max_value:\n",
        "   is_prime=True \n",
        "   trial_factor=2 \n",
        "   root=sqrt(value)\n",
        "   while trial_factor<=root:\n",
        "     if value%trial_factor==0:\n",
        "        is_prime=False;\n",
        "        break \n",
        "     trial_factor+=1\n",
        "   if is_prime:\n",
        "     print(value, end='')\n",
        "   value+=1 \n",
        "print()"
      ],
      "metadata": {
        "id": "FmQVBSTTrylN",
        "colab": {
          "base_uri": "https://localhost:8080/",
          "height": 572
        },
        "outputId": "6362d445-9ad0-4fd0-c939-6927579452cf"
      },
      "execution_count": 2,
      "outputs": [
        {
          "output_type": "error",
          "ename": "KeyboardInterrupt",
          "evalue": "ignored",
          "traceback": [
            "\u001b[0;31m---------------------------------------------------------------------------\u001b[0m",
            "\u001b[0;31mKeyboardInterrupt\u001b[0m                         Traceback (most recent call last)",
            "\u001b[0;32m/usr/local/lib/python3.7/dist-packages/ipykernel/kernelbase.py\u001b[0m in \u001b[0;36m_input_request\u001b[0;34m(self, prompt, ident, parent, password)\u001b[0m\n\u001b[1;32m    728\u001b[0m             \u001b[0;32mtry\u001b[0m\u001b[0;34m:\u001b[0m\u001b[0;34m\u001b[0m\u001b[0;34m\u001b[0m\u001b[0m\n\u001b[0;32m--> 729\u001b[0;31m                 \u001b[0mident\u001b[0m\u001b[0;34m,\u001b[0m \u001b[0mreply\u001b[0m \u001b[0;34m=\u001b[0m \u001b[0mself\u001b[0m\u001b[0;34m.\u001b[0m\u001b[0msession\u001b[0m\u001b[0;34m.\u001b[0m\u001b[0mrecv\u001b[0m\u001b[0;34m(\u001b[0m\u001b[0mself\u001b[0m\u001b[0;34m.\u001b[0m\u001b[0mstdin_socket\u001b[0m\u001b[0;34m,\u001b[0m \u001b[0;36m0\u001b[0m\u001b[0;34m)\u001b[0m\u001b[0;34m\u001b[0m\u001b[0;34m\u001b[0m\u001b[0m\n\u001b[0m\u001b[1;32m    730\u001b[0m             \u001b[0;32mexcept\u001b[0m \u001b[0mException\u001b[0m\u001b[0;34m:\u001b[0m\u001b[0;34m\u001b[0m\u001b[0;34m\u001b[0m\u001b[0m\n",
            "\u001b[0;32m/usr/local/lib/python3.7/dist-packages/jupyter_client/session.py\u001b[0m in \u001b[0;36mrecv\u001b[0;34m(self, socket, mode, content, copy)\u001b[0m\n\u001b[1;32m    802\u001b[0m         \u001b[0;32mtry\u001b[0m\u001b[0;34m:\u001b[0m\u001b[0;34m\u001b[0m\u001b[0;34m\u001b[0m\u001b[0m\n\u001b[0;32m--> 803\u001b[0;31m             \u001b[0mmsg_list\u001b[0m \u001b[0;34m=\u001b[0m \u001b[0msocket\u001b[0m\u001b[0;34m.\u001b[0m\u001b[0mrecv_multipart\u001b[0m\u001b[0;34m(\u001b[0m\u001b[0mmode\u001b[0m\u001b[0;34m,\u001b[0m \u001b[0mcopy\u001b[0m\u001b[0;34m=\u001b[0m\u001b[0mcopy\u001b[0m\u001b[0;34m)\u001b[0m\u001b[0;34m\u001b[0m\u001b[0;34m\u001b[0m\u001b[0m\n\u001b[0m\u001b[1;32m    804\u001b[0m         \u001b[0;32mexcept\u001b[0m \u001b[0mzmq\u001b[0m\u001b[0;34m.\u001b[0m\u001b[0mZMQError\u001b[0m \u001b[0;32mas\u001b[0m \u001b[0me\u001b[0m\u001b[0;34m:\u001b[0m\u001b[0;34m\u001b[0m\u001b[0;34m\u001b[0m\u001b[0m\n",
            "\u001b[0;32m/usr/local/lib/python3.7/dist-packages/zmq/sugar/socket.py\u001b[0m in \u001b[0;36mrecv_multipart\u001b[0;34m(self, flags, copy, track)\u001b[0m\n\u001b[1;32m    624\u001b[0m         \"\"\"\n\u001b[0;32m--> 625\u001b[0;31m         \u001b[0mparts\u001b[0m \u001b[0;34m=\u001b[0m \u001b[0;34m[\u001b[0m\u001b[0mself\u001b[0m\u001b[0;34m.\u001b[0m\u001b[0mrecv\u001b[0m\u001b[0;34m(\u001b[0m\u001b[0mflags\u001b[0m\u001b[0;34m,\u001b[0m \u001b[0mcopy\u001b[0m\u001b[0;34m=\u001b[0m\u001b[0mcopy\u001b[0m\u001b[0;34m,\u001b[0m \u001b[0mtrack\u001b[0m\u001b[0;34m=\u001b[0m\u001b[0mtrack\u001b[0m\u001b[0;34m)\u001b[0m\u001b[0;34m]\u001b[0m\u001b[0;34m\u001b[0m\u001b[0;34m\u001b[0m\u001b[0m\n\u001b[0m\u001b[1;32m    626\u001b[0m         \u001b[0;31m# have first part already, only loop while more to receive\u001b[0m\u001b[0;34m\u001b[0m\u001b[0;34m\u001b[0m\u001b[0;34m\u001b[0m\u001b[0m\n",
            "\u001b[0;32mzmq/backend/cython/socket.pyx\u001b[0m in \u001b[0;36mzmq.backend.cython.socket.Socket.recv\u001b[0;34m()\u001b[0m\n",
            "\u001b[0;32mzmq/backend/cython/socket.pyx\u001b[0m in \u001b[0;36mzmq.backend.cython.socket.Socket.recv\u001b[0;34m()\u001b[0m\n",
            "\u001b[0;32mzmq/backend/cython/socket.pyx\u001b[0m in \u001b[0;36mzmq.backend.cython.socket._recv_copy\u001b[0;34m()\u001b[0m\n",
            "\u001b[0;32m/usr/local/lib/python3.7/dist-packages/zmq/backend/cython/checkrc.pxd\u001b[0m in \u001b[0;36mzmq.backend.cython.checkrc._check_rc\u001b[0;34m()\u001b[0m\n",
            "\u001b[0;31mKeyboardInterrupt\u001b[0m: ",
            "\nDuring handling of the above exception, another exception occurred:\n",
            "\u001b[0;31mKeyboardInterrupt\u001b[0m                         Traceback (most recent call last)",
            "\u001b[0;32m<ipython-input-2-ec5ad96847d7>\u001b[0m in \u001b[0;36m<module>\u001b[0;34m()\u001b[0m\n\u001b[1;32m      1\u001b[0m \u001b[0;32mfrom\u001b[0m \u001b[0mmath\u001b[0m \u001b[0;32mimport\u001b[0m \u001b[0msqrt\u001b[0m\u001b[0;34m\u001b[0m\u001b[0;34m\u001b[0m\u001b[0m\n\u001b[0;32m----> 2\u001b[0;31m \u001b[0mmax_value\u001b[0m \u001b[0;34m=\u001b[0m \u001b[0meval\u001b[0m\u001b[0;34m(\u001b[0m\u001b[0minput\u001b[0m\u001b[0;34m(\u001b[0m\u001b[0;34m\"Display primes up to what value?\"\u001b[0m\u001b[0;34m)\u001b[0m\u001b[0;34m)\u001b[0m\u001b[0;34m\u001b[0m\u001b[0;34m\u001b[0m\u001b[0m\n\u001b[0m\u001b[1;32m      3\u001b[0m \u001b[0mvalue\u001b[0m \u001b[0;34m=\u001b[0m \u001b[0;36m2\u001b[0m\u001b[0;34m\u001b[0m\u001b[0;34m\u001b[0m\u001b[0m\n\u001b[1;32m      4\u001b[0m \u001b[0;32mwhile\u001b[0m \u001b[0mvalue\u001b[0m\u001b[0;34m<=\u001b[0m\u001b[0mmax_value\u001b[0m\u001b[0;34m:\u001b[0m\u001b[0;34m\u001b[0m\u001b[0;34m\u001b[0m\u001b[0m\n\u001b[1;32m      5\u001b[0m    \u001b[0mis_prime\u001b[0m\u001b[0;34m=\u001b[0m\u001b[0;32mTrue\u001b[0m\u001b[0;34m\u001b[0m\u001b[0;34m\u001b[0m\u001b[0m\n",
            "\u001b[0;32m/usr/local/lib/python3.7/dist-packages/ipykernel/kernelbase.py\u001b[0m in \u001b[0;36mraw_input\u001b[0;34m(self, prompt)\u001b[0m\n\u001b[1;32m    702\u001b[0m             \u001b[0mself\u001b[0m\u001b[0;34m.\u001b[0m\u001b[0m_parent_ident\u001b[0m\u001b[0;34m,\u001b[0m\u001b[0;34m\u001b[0m\u001b[0;34m\u001b[0m\u001b[0m\n\u001b[1;32m    703\u001b[0m             \u001b[0mself\u001b[0m\u001b[0;34m.\u001b[0m\u001b[0m_parent_header\u001b[0m\u001b[0;34m,\u001b[0m\u001b[0;34m\u001b[0m\u001b[0;34m\u001b[0m\u001b[0m\n\u001b[0;32m--> 704\u001b[0;31m             \u001b[0mpassword\u001b[0m\u001b[0;34m=\u001b[0m\u001b[0;32mFalse\u001b[0m\u001b[0;34m,\u001b[0m\u001b[0;34m\u001b[0m\u001b[0;34m\u001b[0m\u001b[0m\n\u001b[0m\u001b[1;32m    705\u001b[0m         )\n\u001b[1;32m    706\u001b[0m \u001b[0;34m\u001b[0m\u001b[0m\n",
            "\u001b[0;32m/usr/local/lib/python3.7/dist-packages/ipykernel/kernelbase.py\u001b[0m in \u001b[0;36m_input_request\u001b[0;34m(self, prompt, ident, parent, password)\u001b[0m\n\u001b[1;32m    732\u001b[0m             \u001b[0;32mexcept\u001b[0m \u001b[0mKeyboardInterrupt\u001b[0m\u001b[0;34m:\u001b[0m\u001b[0;34m\u001b[0m\u001b[0;34m\u001b[0m\u001b[0m\n\u001b[1;32m    733\u001b[0m                 \u001b[0;31m# re-raise KeyboardInterrupt, to truncate traceback\u001b[0m\u001b[0;34m\u001b[0m\u001b[0;34m\u001b[0m\u001b[0;34m\u001b[0m\u001b[0m\n\u001b[0;32m--> 734\u001b[0;31m                 \u001b[0;32mraise\u001b[0m \u001b[0mKeyboardInterrupt\u001b[0m\u001b[0;34m\u001b[0m\u001b[0;34m\u001b[0m\u001b[0m\n\u001b[0m\u001b[1;32m    735\u001b[0m             \u001b[0;32melse\u001b[0m\u001b[0;34m:\u001b[0m\u001b[0;34m\u001b[0m\u001b[0;34m\u001b[0m\u001b[0m\n\u001b[1;32m    736\u001b[0m                 \u001b[0;32mbreak\u001b[0m\u001b[0;34m\u001b[0m\u001b[0;34m\u001b[0m\u001b[0m\n",
            "\u001b[0;31mKeyboardInterrupt\u001b[0m: "
          ]
        }
      ]
    },
    {
      "cell_type": "code",
      "source": [
        "from time import clock\n",
        "print(\"Enter your name: \")\n",
        "start_time = clock()\n",
        "name = input()\n",
        "elapsed = clock() - start_time\n",
        "print (name, \"it took you\", elapsed, \"seconds to respond\")"
      ],
      "metadata": {
        "colab": {
          "base_uri": "https://localhost:8080/"
        },
        "id": "J1bDA4sfxe2X",
        "outputId": "509579c5-ac90-4c9a-e45f-8c6b1ecac4fa"
      },
      "execution_count": null,
      "outputs": [
        {
          "output_type": "stream",
          "name": "stderr",
          "text": [
            "/usr/local/lib/python3.7/dist-packages/ipykernel_launcher.py:3: DeprecationWarning: time.clock has been deprecated in Python 3.3 and will be removed from Python 3.8: use time.perf_counter or time.process_time instead\n",
            "  This is separate from the ipykernel package so we can avoid doing imports until\n"
          ]
        },
        {
          "output_type": "stream",
          "name": "stdout",
          "text": [
            "Enter your name: \n",
            "karthigeyan\n",
            "karthigeyan it took you 0.05768499999976484 seconds to respond\n"
          ]
        },
        {
          "output_type": "stream",
          "name": "stderr",
          "text": [
            "/usr/local/lib/python3.7/dist-packages/ipykernel_launcher.py:5: DeprecationWarning: time.clock has been deprecated in Python 3.3 and will be removed from Python 3.8: use time.perf_counter or time.process_time instead\n",
            "  \"\"\"\n"
          ]
        }
      ]
    },
    {
      "cell_type": "code",
      "source": [
        "from time import clock\n",
        "max_value = 10000\n",
        "count = 0 \n",
        "start_time = clock()\n",
        "for value in range(2, max_value + 1):\n",
        "     is_prime = True \n",
        "     for trial_factor in range(2, value):\n",
        "        if value % trial_factor == 0:\n",
        "            is_prime = False\n",
        "            break\n",
        "     if is_prime: \n",
        "        count += 1\n",
        "print() \n",
        "elapsed = clock() - start_time\n",
        "print(\"Count:\", count, \" Elapsed time:\",elapsed, \"sec\")"
      ],
      "metadata": {
        "colab": {
          "base_uri": "https://localhost:8080/"
        },
        "id": "tTIu9hxLy11w",
        "outputId": "32c08cbe-f4fb-4232-80d8-c5b6f98be385"
      },
      "execution_count": null,
      "outputs": [
        {
          "output_type": "stream",
          "name": "stderr",
          "text": [
            "/usr/local/lib/python3.7/dist-packages/ipykernel_launcher.py:4: DeprecationWarning: time.clock has been deprecated in Python 3.3 and will be removed from Python 3.8: use time.perf_counter or time.process_time instead\n",
            "  after removing the cwd from sys.path.\n"
          ]
        },
        {
          "output_type": "stream",
          "name": "stdout",
          "text": [
            "\n",
            "Count: 1229  Elapsed time: 0.6612320000000409 sec\n"
          ]
        },
        {
          "output_type": "stream",
          "name": "stderr",
          "text": [
            "/usr/local/lib/python3.7/dist-packages/ipykernel_launcher.py:14: DeprecationWarning: time.clock has been deprecated in Python 3.3 and will be removed from Python 3.8: use time.perf_counter or time.process_time instead\n",
            "  \n"
          ]
        }
      ]
    },
    {
      "cell_type": "code",
      "source": [
        "from time import sleep\n",
        "for count in range(10,-1,-1):\n",
        "   print(count)\n",
        "   sleep(1)"
      ],
      "metadata": {
        "colab": {
          "base_uri": "https://localhost:8080/"
        },
        "id": "V97oUGBR0mMy",
        "outputId": "6d725dde-e4db-4ffa-ccf8-fa8f55038919"
      },
      "execution_count": null,
      "outputs": [
        {
          "output_type": "stream",
          "name": "stdout",
          "text": [
            "10\n",
            "9\n",
            "8\n",
            "7\n",
            "6\n",
            "5\n",
            "4\n",
            "3\n",
            "2\n",
            "1\n",
            "0\n"
          ]
        }
      ]
    },
    {
      "cell_type": "code",
      "source": [
        "from random import randrange, seed\n",
        "seed(23) \n",
        "for i in range(0,100):\n",
        "    print(randrange(1,1000), end = \"\")\n",
        "print()"
      ],
      "metadata": {
        "colab": {
          "base_uri": "https://localhost:8080/"
        },
        "id": "wMAbNDQj083m",
        "outputId": "b55103f3-3fed-4be8-fcf8-e7ca409e33ec"
      },
      "execution_count": null,
      "outputs": [
        {
          "output_type": "stream",
          "name": "stdout",
          "text": [
            "948\n",
            "799\n",
            "972\n",
            "297\n",
            "914\n",
            "850\n",
            "86\n",
            "18\n",
            "607\n",
            "315\n",
            "434\n",
            "389\n",
            "543\n",
            "367\n",
            "134\n",
            "744\n",
            "197\n",
            "274\n",
            "456\n",
            "15\n",
            "227\n",
            "636\n",
            "466\n",
            "924\n",
            "26\n",
            "109\n",
            "88\n",
            "728\n",
            "511\n",
            "432\n",
            "21\n",
            "525\n",
            "643\n",
            "752\n",
            "442\n",
            "368\n",
            "790\n",
            "59\n",
            "211\n",
            "802\n",
            "37\n",
            "604\n",
            "378\n",
            "674\n",
            "177\n",
            "636\n",
            "222\n",
            "995\n",
            "753\n",
            "372\n",
            "580\n",
            "779\n",
            "881\n",
            "378\n",
            "992\n",
            "586\n",
            "289\n",
            "677\n",
            "999\n",
            "322\n",
            "587\n",
            "88\n",
            "834\n",
            "486\n",
            "182\n",
            "736\n",
            "495\n",
            "605\n",
            "811\n",
            "459\n",
            "692\n",
            "658\n",
            "168\n",
            "187\n",
            "819\n",
            "183\n",
            "547\n",
            "332\n",
            "690\n",
            "836\n",
            "533\n",
            "201\n",
            "597\n",
            "118\n",
            "85\n",
            "101\n",
            "437\n",
            "40\n",
            "582\n",
            "283\n",
            "963\n",
            "587\n",
            "288\n",
            "841\n",
            "605\n",
            "339\n",
            "112\n",
            "379\n",
            "922\n",
            "296\n",
            "\n"
          ]
        }
      ]
    },
    {
      "cell_type": "code",
      "source": [
        "from random import randrange\n",
        "for i in range(0, 5):\n",
        "   value = randrange(1, 8)\n",
        "   print(\"+-------+\")\n",
        "   if value == 1:\n",
        "       print(\"|       |\")\n",
        "       print(\"|   *   |\")\n",
        "       print(\"|       |\")\n",
        "   elif value == 2:\n",
        "       print(\"| *     |\")\n",
        "       print(\"|       |\")\n",
        "       print(\"|     * |\")\n",
        "   elif value == 3:\n",
        "       print(\"|     * |\")\n",
        "       print(\"|   *   |\")\n",
        "       print(\"| *     |\")\n",
        "   elif value == 4:\n",
        "       print(\"| *   * |\")\n",
        "       print(\"|       |\")\n",
        "       print(\"| *   * |\")\n",
        "   elif value == 5:\n",
        "       print(\"| *   * |\")\n",
        "       print(\"|   *   |\")\n",
        "       print(\"| *   * |\")"
      ],
      "metadata": {
        "colab": {
          "base_uri": "https://localhost:8080/"
        },
        "id": "fCFArnga1eBB",
        "outputId": "861e6a10-020d-44ca-cb86-61b64fbc16cd"
      },
      "execution_count": null,
      "outputs": [
        {
          "output_type": "stream",
          "name": "stdout",
          "text": [
            "+-------+\n",
            "| *     |\n",
            "|       |\n",
            "|     * |\n",
            "+-------+\n",
            "|       |\n",
            "|   *   |\n",
            "|       |\n",
            "+-------+\n",
            "| *   * |\n",
            "|   *   |\n",
            "| *   * |\n"
          ]
        }
      ]
    },
    {
      "cell_type": "code",
      "source": [
        "def increment (x):\n",
        "   print(\"Beginning execution of increment, x=\", x)\n",
        "   x += 1\n",
        "   print(\"Ending execution of increment, x=\", x)\n",
        "def main():\n",
        "    x=5\n",
        "    print(\"Before increment, x=\", x)\n",
        "    increment(x)\n",
        "    print(\"After increment, x=\", x)\n",
        "main()"
      ],
      "metadata": {
        "id": "Lu2dX65zYDPy",
        "colab": {
          "base_uri": "https://localhost:8080/"
        },
        "outputId": "0be905bf-4589-45f6-8cd2-108f0f0fac5f"
      },
      "execution_count": 9,
      "outputs": [
        {
          "output_type": "stream",
          "name": "stdout",
          "text": [
            "Before increment, x= 5\n",
            "Beginning execution of increment, x= 5\n",
            "Ending execution of increment, x= 6\n",
            "After increment, x= 5\n"
          ]
        }
      ]
    },
    {
      "cell_type": "code",
      "source": [
        "def countdown (n=5):\n",
        "    for count in range(n, -1, -1):\n",
        "        print(count)"
      ],
      "metadata": {
        "id": "NbtOKihcXBLK"
      },
      "execution_count": 12,
      "outputs": []
    },
    {
      "cell_type": "code",
      "source": [
        "x = ''' \n",
        "This is a multi-line string that goes\n",
        "on for three lines!\n",
        "'''\n",
        "print(x)"
      ],
      "metadata": {
        "colab": {
          "base_uri": "https://localhost:8080/"
        },
        "id": "ub2uMRSMYjgr",
        "outputId": "92e041ca-66e2-4c40-eb1b-8f5a26383e41"
      },
      "execution_count": 14,
      "outputs": [
        {
          "output_type": "stream",
          "name": "stdout",
          "text": [
            " \n",
            "This is a multi-line string that goes\n",
            "on for three lines!\n",
            "\n"
          ]
        }
      ]
    }
  ]
}