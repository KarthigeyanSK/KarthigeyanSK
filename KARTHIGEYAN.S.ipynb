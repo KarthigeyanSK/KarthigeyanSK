{
  "nbformat": 4,
  "nbformat_minor": 0,
  "metadata": {
    "colab": {
      "name": "Untitled7.ipynb",
      "provenance": [],
      "collapsed_sections": [],
      "authorship_tag": "ABX9TyPy3yEGg4ZHoCiVm6ljxmkv",
      "include_colab_link": true
    },
    "kernelspec": {
      "name": "python3",
      "display_name": "Python 3"
    },
    "language_info": {
      "name": "python"
    }
  },
  "cells": [
    {
      "cell_type": "markdown",
      "metadata": {
        "id": "view-in-github",
        "colab_type": "text"
      },
      "source": [
        "<a href=\"https://colab.research.google.com/github/KarthigeyanSK/KarthigeyanSK/blob/main/KARTHIGEYAN.S.ipynb\" target=\"_parent\"><img src=\"https://colab.research.google.com/assets/colab-badge.svg\" alt=\"Open In Colab\"/></a>"
      ]
    },
    {
      "cell_type": "code",
      "execution_count": null,
      "metadata": {
        "colab": {
          "base_uri": "https://localhost:8080/"
        },
        "id": "2pI9TjU59P8E",
        "outputId": "943e2626-3021-4818-a4e6-533b4ad49fa7"
      },
      "outputs": [
        {
          "output_type": "stream",
          "name": "stdout",
          "text": [
            "a= True b= False\n",
            "a= False b= False\n"
          ]
        }
      ],
      "source": [
        "a = True\n",
        "b = False\n",
        "print('a=',a , 'b=',b)\n",
        "a = False\n",
        "print('a=',a , 'b=',b)"
      ]
    },
    {
      "cell_type": "code",
      "source": [
        "dividend, divisor =eval(input('please enter two numbers to divide:  '))\n",
        "if divisor  !=0:\n",
        "  print(dividend,  '/',  divisor,  '=', dividend/divisor)"
      ],
      "metadata": {
        "colab": {
          "base_uri": "https://localhost:8080/"
        },
        "id": "YDoLg1EK9zlN",
        "outputId": "273fd7b3-8f72-4f17-b695-c60e02b4b183"
      },
      "execution_count": null,
      "outputs": [
        {
          "output_type": "stream",
          "name": "stdout",
          "text": [
            "please enter two numbers to divide:  2,6\n",
            "2 / 6 = 0.3333333333333333\n"
          ]
        }
      ]
    },
    {
      "cell_type": "code",
      "source": [
        "dividend = int(input('enter the dividend value:  '))\n",
        "divisor = int(input('enter the divisor value:  '))\n",
        "if divisor  !=0:\n",
        "  quotient = dividend/divisor\n",
        "  print(dividend,'/', divisor, '=',quotient)\n",
        "  print('program finished')"
      ],
      "metadata": {
        "colab": {
          "base_uri": "https://localhost:8080/"
        },
        "id": "ULMfpgM993dZ",
        "outputId": "44504d05-4226-4e8f-d3ac-77063e7804a8"
      },
      "execution_count": null,
      "outputs": [
        {
          "output_type": "stream",
          "name": "stdout",
          "text": [
            "enter the dividend value:  4\n",
            "enter the divisor value:  9\n",
            "4 / 9 = 0.4444444444444444\n",
            "program finished\n"
          ]
        }
      ]
    },
    {
      "cell_type": "code",
      "source": [
        "dividend = int(input('enter the dividend value:  '))\n",
        "divisor = int(input('enter the divisor value:  '))\n",
        "if divisor  !=0:\n",
        "  quotient = dividend/divisor\n",
        "  print(dividend,'/', divisor, '=',quotient)\n",
        "  print('program finished')"
      ],
      "metadata": {
        "colab": {
          "base_uri": "https://localhost:8080/"
        },
        "id": "M69HKaHf957J",
        "outputId": "aabc61ae-11ba-4718-8ed4-47fea20966af"
      },
      "execution_count": null,
      "outputs": [
        {
          "output_type": "stream",
          "name": "stdout",
          "text": [
            "enter the dividend value:  2\n",
            "enter the divisor value:  4\n",
            "2 / 4 = 0.5\n",
            "program finished\n"
          ]
        }
      ]
    },
    {
      "cell_type": "code",
      "source": [
        "dividend = int(input('please enter the dividend value:  '))\n",
        "divisor = int(input('please enter the divisor value:  '))\n",
        "if divisor  !=0:\n",
        "  print(dividend,'/',divisor,'=', dividend/divisor)\n",
        "else:\n",
        "  print('division by zero is not allowed')"
      ],
      "metadata": {
        "colab": {
          "base_uri": "https://localhost:8080/"
        },
        "id": "T8Sk2l8B-V2b",
        "outputId": "97b2f7e6-c5c6-4183-e09e-113126968959"
      },
      "execution_count": null,
      "outputs": [
        {
          "output_type": "stream",
          "name": "stdout",
          "text": [
            "please enter the dividend value:  3\n",
            "please enter the divisor value:  45\n",
            "3 / 45 = 0.06666666666666667\n"
          ]
        }
      ]
    },
    {
      "cell_type": "code",
      "source": [
        "dividend = int(input('please enter the dividend value:  '))\n",
        "divisor = int(input('please enter the divisor value:  '))\n",
        "if divisor  !=0:\n",
        "  print(dividend,'/',divisor,'=', dividend/divisor)\n",
        "else:\n",
        "  print('division by zero is not allowed')"
      ],
      "metadata": {
        "colab": {
          "base_uri": "https://localhost:8080/"
        },
        "id": "MucKZZAb-aOa",
        "outputId": "20f65489-36c5-487b-cf1d-85ededb76579"
      },
      "execution_count": null,
      "outputs": [
        {
          "output_type": "stream",
          "name": "stdout",
          "text": [
            "please enter the dividend value:  77\n",
            "please enter the divisor value:  99\n",
            "77 / 99 = 0.7777777777777778\n"
          ]
        }
      ]
    },
    {
      "cell_type": "code",
      "source": [
        "value = eval(input('please enter an integer in the range  0...5:  '))\n",
        "if value < 0:\n",
        "  print('too small')\n",
        "else:\n",
        "  if value ==0:\n",
        "    print('zero')\n",
        "  else:\n",
        "    if value ==1:\n",
        "      print('one')\n",
        "    else:\n",
        "      if value ==2:\n",
        "        print('two')\n",
        "      else:\n",
        "        if value ==3:\n",
        "          print('three')\n",
        "        else:\n",
        "          if value ==4:\n",
        "            print('four')\n",
        "          else:\n",
        "            if value ==5:\n",
        "              print('five')\n",
        "            else:\n",
        "              print('too large')\n",
        "\n",
        "              print('done')     "
      ],
      "metadata": {
        "colab": {
          "base_uri": "https://localhost:8080/"
        },
        "id": "loufTtdu-dXa",
        "outputId": "57fefabe-5f08-4883-aa1f-35708b251507"
      },
      "execution_count": null,
      "outputs": [
        {
          "output_type": "stream",
          "name": "stdout",
          "text": [
            "please enter an integer in the range  0...5:  4\n",
            "four\n"
          ]
        }
      ]
    },
    {
      "cell_type": "code",
      "source": [
        "value = eval(input('please enter an integer in the range  0...5:  '))\n",
        "if value < 0:\n",
        "  print('too small')\n",
        "elif value ==0:\n",
        "  print('zero')\n",
        "elif value ==1:\n",
        "    print('one')\n",
        "elif value ==2:\n",
        "      print('two') \n",
        "elif value ==3:\n",
        "        print('three')\n",
        "elif value ==4:\n",
        "          print('four')\n",
        "elif value ==5:\n",
        "            print('five')\n",
        "else:\n",
        "              print('too large')\n",
        "\n",
        "\n",
        "              print('done') "
      ],
      "metadata": {
        "colab": {
          "base_uri": "https://localhost:8080/"
        },
        "id": "dx7I8nIT-mAx",
        "outputId": "ce189618-8323-4425-8d18-0df26af87e77"
      },
      "execution_count": null,
      "outputs": [
        {
          "output_type": "stream",
          "name": "stdout",
          "text": [
            "please enter an integer in the range  0...5:  3\n",
            "three\n"
          ]
        }
      ]
    },
    {
      "cell_type": "code",
      "source": [
        "value = eval(input('please enter an integer value in the range  0.....10:  '))\n",
        "if value >=0:\n",
        "  print('in range')\n",
        "  print('done')\n",
        "else:\n",
        "  print('out of range')\n",
        "  print('done')"
      ],
      "metadata": {
        "colab": {
          "base_uri": "https://localhost:8080/"
        },
        "id": "KmmKt5KV-p8w",
        "outputId": "196727a2-efd0-491f-fc1c-56559d19d855"
      },
      "execution_count": null,
      "outputs": [
        {
          "output_type": "stream",
          "name": "stdout",
          "text": [
            "please enter an integer value in the range  0.....10:  7\n",
            "in range\n",
            "done\n"
          ]
        }
      ]
    },
    {
      "cell_type": "code",
      "source": [
        "value = eval(input('please enter an integer value in the range  0.....10:  '))\n",
        "if value <=10:\n",
        "  print('in range')\n",
        "  print('done')"
      ],
      "metadata": {
        "colab": {
          "base_uri": "https://localhost:8080/"
        },
        "id": "H05c9k5d-tv8",
        "outputId": "81537467-162b-42f7-8c22-7f97790be316"
      },
      "execution_count": null,
      "outputs": [
        {
          "output_type": "stream",
          "name": "stdout",
          "text": [
            "please enter an integer value in the range  0.....10:  3\n",
            "in range\n",
            "done\n"
          ]
        }
      ]
    },
    {
      "cell_type": "code",
      "source": [
        "value = eval(input('please enter an integer value in range  0.....10:  '))\n",
        "if value >=0 and value <=10:\n",
        "  print('in range')\n",
        "  print('done')"
      ],
      "metadata": {
        "colab": {
          "base_uri": "https://localhost:8080/"
        },
        "id": "Jpt4x1xz-zDp",
        "outputId": "f5af228b-03ba-448a-a327-7d45437d94bf"
      },
      "execution_count": null,
      "outputs": [
        {
          "output_type": "stream",
          "name": "stdout",
          "text": [
            "please enter an integer value in range  0.....10:  2\n",
            "in range\n",
            "done\n"
          ]
        }
      ]
    },
    {
      "cell_type": "code",
      "source": [
        "value = eval(input('please enter an integer value in range  0.....10:  '))\n",
        "if value  >=0:\n",
        "  if value  <=10:\n",
        "    print(value,  'value is in range')\n",
        "  else:\n",
        "      print(value,  'value is too long')\n",
        "else:\n",
        "  print(value,  'is too short')\n",
        "  print('done')      "
      ],
      "metadata": {
        "colab": {
          "base_uri": "https://localhost:8080/"
        },
        "id": "DtE-ycdU-6N5",
        "outputId": "089893f5-f3b8-46db-9157-42a3405d7a83"
      },
      "execution_count": null,
      "outputs": [
        {
          "output_type": "stream",
          "name": "stdout",
          "text": [
            "please enter an integer value in range  0.....10:  7\n",
            "7 value is in range\n"
          ]
        }
      ]
    },
    {
      "cell_type": "code",
      "source": [
        "dividend, divisor = eval(input('enter dividend, divisor :  '))\n",
        "msg = dividend/divisor if divisor !=0 else 'error, cannot divided by zero'\n",
        "print(msg)"
      ],
      "metadata": {
        "colab": {
          "base_uri": "https://localhost:8080/"
        },
        "id": "QJRBFoBL-_DR",
        "outputId": "32d5334e-2d56-47af-d53e-562aef421439"
      },
      "execution_count": null,
      "outputs": [
        {
          "output_type": "stream",
          "name": "stdout",
          "text": [
            "enter dividend, divisor :  6,8\n",
            "0.75\n"
          ]
        }
      ]
    },
    {
      "cell_type": "code",
      "source": [
        "count = 1\n",
        "while count <= 5:\n",
        "  print(count)\n",
        "  count +=1"
      ],
      "metadata": {
        "colab": {
          "base_uri": "https://localhost:8080/"
        },
        "id": "hwAi6o6X_Edp",
        "outputId": "15fbc133-6f23-49b7-d711-fb8f7989d251"
      },
      "execution_count": null,
      "outputs": [
        {
          "output_type": "stream",
          "name": "stdout",
          "text": [
            "1\n",
            "2\n",
            "3\n",
            "4\n",
            "5\n"
          ]
        }
      ]
    },
    {
      "cell_type": "code",
      "source": [
        "entry = 0\n",
        "sum = 0\n",
        "print('enter numbers to sum, negative numbers ends list:  ')\n",
        "while entry >=0:\n",
        "  entry = eval(input())\n",
        "  if entry >=0:\n",
        "    sum += entry\n",
        "    print('sum=', sum)"
      ],
      "metadata": {
        "colab": {
          "base_uri": "https://localhost:8080/"
        },
        "id": "SARbSX34_HkY",
        "outputId": "2feff3cd-c1a2-40ce-fdd4-001f1b9ee27b"
      },
      "execution_count": null,
      "outputs": [
        {
          "name": "stdout",
          "output_type": "stream",
          "text": [
            "enter numbers to sum, negative numbers ends list:  \n",
            "4\n",
            "sum= 4\n",
            "5\n",
            "sum= 9\n",
            "6\n",
            "sum= 15\n",
            "7\n",
            "sum= 22\n",
            "8\n",
            "sum= 30\n",
            "9\n",
            "sum= 39\n",
            "1\n",
            "sum= 40\n",
            "2\n",
            "sum= 42\n",
            "3\n",
            "sum= 45\n",
            "4\n",
            "sum= 49\n",
            "5\n",
            "sum= 54\n",
            "6\n",
            "sum= 60\n",
            "-7\n"
          ]
        }
      ]
    },
    {
      "cell_type": "code",
      "source": [
        "n = 1\n",
        "while n <= 10:\n",
        "  print(n)\n",
        "  n += 1"
      ],
      "metadata": {
        "colab": {
          "base_uri": "https://localhost:8080/"
        },
        "id": "5fJaeVBQ_fXB",
        "outputId": "a72a797d-5cac-40a8-a8d3-4869e6ae8285"
      },
      "execution_count": null,
      "outputs": [
        {
          "output_type": "stream",
          "name": "stdout",
          "text": [
            "1\n",
            "2\n",
            "3\n",
            "4\n",
            "5\n",
            "6\n",
            "7\n",
            "8\n",
            "9\n",
            "10\n"
          ]
        }
      ]
    },
    {
      "cell_type": "code",
      "source": [
        "n = 1\n",
        "stop = int(input())\n",
        "while n <= stop:\n",
        "  print(n)\n",
        "  n += 1"
      ],
      "metadata": {
        "colab": {
          "base_uri": "https://localhost:8080/"
        },
        "id": "0SgQq9zH_j6Q",
        "outputId": "88133911-0d8b-447b-edf2-52b1d15548d8"
      },
      "execution_count": null,
      "outputs": [
        {
          "output_type": "stream",
          "name": "stdout",
          "text": [
            "3\n",
            "1\n",
            "2\n",
            "3\n"
          ]
        }
      ]
    },
    {
      "cell_type": "code",
      "source": [
        "done = False\n",
        "while not done:\n",
        "  entry = eval(input())\n",
        "  if entry == 999:\n",
        "    done = True\n",
        "  else:\n",
        "      print(entry)"
      ],
      "metadata": {
        "colab": {
          "base_uri": "https://localhost:8080/"
        },
        "id": "7vtwV0pV_ngq",
        "outputId": "2d053ab5-8ff6-4461-de28-80fe5083aa73"
      },
      "execution_count": null,
      "outputs": [
        {
          "name": "stdout",
          "output_type": "stream",
          "text": [
            "5\n",
            "5\n",
            "6\n",
            "6\n",
            "7\n",
            "7\n",
            "9\n",
            "9\n",
            "-7\n",
            "-7\n",
            "999\n"
          ]
        }
      ]
    },
    {
      "cell_type": "code",
      "source": [
        "for n in range(21, 0, -3):\n",
        "  print(n,'',end='')"
      ],
      "metadata": {
        "colab": {
          "base_uri": "https://localhost:8080/"
        },
        "id": "svhIw00M_xZq",
        "outputId": "0f09af27-f364-4ef7-cfcd-c4309163e636"
      },
      "execution_count": null,
      "outputs": [
        {
          "output_type": "stream",
          "name": "stdout",
          "text": [
            "21 18 15 12 9 6 3 "
          ]
        }
      ]
    },
    {
      "cell_type": "code",
      "source": [
        "print('      1  2  3  4  5  6  7  8  9  10')\n",
        "print('     <------------------------------')\n",
        "for row in range(1,11):\n",
        "  if row < 10:\n",
        "    print('  ', end='')\n",
        "  print(row, '|', end='')\n",
        "  for column in range(1,11):\n",
        "     product = row*column;\n",
        "     if product < 100:\n",
        "       print(end='')\n",
        "       if product < 10:\n",
        "         print(end='')\n",
        "     print(product, end='') \n",
        "  print() "
      ],
      "metadata": {
        "colab": {
          "base_uri": "https://localhost:8080/"
        },
        "id": "cP3pjAf__2Bi",
        "outputId": "6bbc6564-89b0-42b3-d198-ddc664c43f07"
      },
      "execution_count": null,
      "outputs": [
        {
          "output_type": "stream",
          "name": "stdout",
          "text": [
            "      1  2  3  4  5  6  7  8  9  10\n",
            "     <------------------------------\n",
            "  1 |12345678910\n",
            "  2 |2468101214161820\n",
            "  3 |36912151821242730\n",
            "  4 |481216202428323640\n",
            "  5 |5101520253035404550\n",
            "  6 |6121824303642485460\n",
            "  7 |7142128354249566370\n",
            "  8 |8162432404856647280\n",
            "  9 |9182736455463728190\n",
            "10 |102030405060708090100\n"
          ]
        }
      ]
    },
    {
      "cell_type": "code",
      "source": [
        "for first in 'ABC':\n",
        "  for second in 'ABC':\n",
        "    if second != first:\n",
        "      for third in 'ABC':\n",
        "        if third != first and third != second:\n",
        "          print(first+second+third)"
      ],
      "metadata": {
        "colab": {
          "base_uri": "https://localhost:8080/"
        },
        "id": "ivO2nLZH_4D5",
        "outputId": "5c1738f8-e379-4e50-e852-7e0af13798ca"
      },
      "execution_count": null,
      "outputs": [
        {
          "output_type": "stream",
          "name": "stdout",
          "text": [
            "ABC\n",
            "ACB\n",
            "BAC\n",
            "BCA\n",
            "CAB\n",
            "CBA\n"
          ]
        }
      ]
    },
    {
      "cell_type": "code",
      "source": [
        "entry = 0\n",
        "sum = 0\n",
        "print('enter numbers to sum, negative numbers ends list:  ')\n",
        "while True:\n",
        "  entry = eval(input())\n",
        "  if entry < 0:\n",
        "    break\n",
        "    sum += entry\n",
        "    print('sum=', sum)"
      ],
      "metadata": {
        "colab": {
          "base_uri": "https://localhost:8080/"
        },
        "id": "c2nldUz0_8kC",
        "outputId": "9efa4871-657e-4020-8514-f0fe94000102"
      },
      "execution_count": null,
      "outputs": [
        {
          "name": "stdout",
          "output_type": "stream",
          "text": [
            "enter numbers to sum, negative numbers ends list:  \n",
            "4\n",
            "7\n",
            "8\n",
            "9\n",
            "-6\n"
          ]
        }
      ]
    },
    {
      "cell_type": "code",
      "source": [
        "sum = 0\n",
        "done = False;\n",
        "while not done:\n",
        "  val = eval(input('enter the positive integer(999 quits):  '))\n",
        "  if val < 0:\n",
        "    print('negative value', val , 'ignored')\n",
        "    continue;\n",
        "  if val != 999:\n",
        "    print('tallying', val)\n",
        "    sum += val\n",
        "  else:\n",
        "    done = (val == 999);\n",
        "print('sum=' , sum )     "
      ],
      "metadata": {
        "colab": {
          "base_uri": "https://localhost:8080/"
        },
        "id": "etMkp5MF__Ii",
        "outputId": "1fff5779-6a29-4b61-fd9b-9596ea4310bb"
      },
      "execution_count": null,
      "outputs": [
        {
          "output_type": "stream",
          "name": "stdout",
          "text": [
            "enter the positive integer(999 quits):  6\n",
            "tallying 6\n",
            "enter the positive integer(999 quits):  5\n",
            "tallying 5\n",
            "enter the positive integer(999 quits):  7\n",
            "tallying 7\n",
            "enter the positive integer(999 quits):  999\n",
            "sum= 18\n"
          ]
        }
      ]
    },
    {
      "cell_type": "code",
      "source": [
        "sum = 0\n",
        "done = False;\n",
        "while not done:\n",
        "  val = eval(input('enter the positive integer(999 quits):  '))\n",
        "  if val < 0:\n",
        "    print('negative value', val , 'ignored')\n",
        "    continue;\n",
        "  if val != 999:\n",
        "    print('tallying', val)\n",
        "    sum += val\n",
        "  else:\n",
        "    done = (val == 999);\n",
        "print('sum=' , sum )     "
      ],
      "metadata": {
        "colab": {
          "base_uri": "https://localhost:8080/"
        },
        "id": "ZM-5JzH_ABuy",
        "outputId": "3d95eb5f-53fd-4307-f7bb-109c07d87fc4"
      },
      "execution_count": null,
      "outputs": [
        {
          "output_type": "stream",
          "name": "stdout",
          "text": [
            "enter the positive integer(999 quits):  55\n",
            "tallying 55\n",
            "enter the positive integer(999 quits):  55\n",
            "tallying 55\n",
            "enter the positive integer(999 quits):  55\n",
            "tallying 55\n",
            "enter the positive integer(999 quits):  66\n",
            "tallying 66\n",
            "enter the positive integer(999 quits):  999\n",
            "sum= 231\n"
          ]
        }
      ]
    }
  ]
}